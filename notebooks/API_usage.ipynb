{
 "cells": [
  {
   "cell_type": "code",
   "execution_count": 19,
   "metadata": {},
   "outputs": [],
   "source": [
    "import requests\n",
    "import cv2\n",
    "import numpy as np\n",
    "import base64\n",
    "# img=cv2.imread('data/homesquat1.jpeg')\n",
    "image_read = cv2.imread('../raw_data/homesquat1.jpeg')"
   ]
  },
  {
   "cell_type": "code",
   "execution_count": 3,
   "metadata": {},
   "outputs": [],
   "source": [
    "# URL\n",
    "api_url = \"https://predictionapi-fja4gelnpq-ew.a.run.app/getanglesquat\""
   ]
  },
  {
   "cell_type": "code",
   "execution_count": 14,
   "metadata": {},
   "outputs": [],
   "source": [
    "import mediapipe as mp\n",
    "mp_drawing = mp.solutions.drawing_utils\n",
    "mp_holistic = mp.solutions.holistic\n",
    "nparr = np.frombuffer(cv2.imencode('.png', image_read)[1].tobytes(), np.uint8)\n",
    "cv2_img = cv2.imdecode(nparr, cv2.IMREAD_COLOR)\n",
    "image = cv2.cvtColor(cv2_img,cv2.COLOR_BGR2RGB)"
   ]
  },
  {
   "cell_type": "code",
   "execution_count": 16,
   "metadata": {},
   "outputs": [
    {
     "name": "stderr",
     "output_type": "stream",
     "text": [
      "INFO: Created TensorFlow Lite XNNPACK delegate for CPU.\n"
     ]
    }
   ],
   "source": [
    "image_height, image_width, _ = image.shape\n",
    "with mp_holistic.Holistic(static_image_mode=True, model_complexity=2, enable_segmentation=True) as holistic:\n",
    "    results = holistic.process(cv2.cvtColor(image, cv2.COLOR_BGR2RGB))\n",
    "    out_image = image.copy()\n",
    "    mp_drawing.draw_landmarks(\n",
    "        out_image, results.pose_landmarks, mp_holistic.POSE_CONNECTIONS\n",
    "    )\n",
    "    mp_drawing.draw_landmarks(\n",
    "        out_image, results.pose_landmarks, mp_holistic.POSE_CONNECTIONS\n",
    "    )\n",
    "    mp_drawing.draw_landmarks(\n",
    "        out_image, results.pose_landmarks, mp_holistic.POSE_CONNECTIONS\n",
    "    )\n",
    "    mp_drawing.draw_landmarks(\n",
    "        out_image, results.pose_landmarks, mp_holistic.POSE_CONNECTIONS\n",
    "        )"
   ]
  },
  {
   "cell_type": "code",
   "execution_count": 22,
   "metadata": {},
   "outputs": [
    {
     "data": {
      "text/plain": [
       "bytes"
      ]
     },
     "execution_count": 22,
     "metadata": {},
     "output_type": "execute_result"
    }
   ],
   "source": [
    "jpg_as_text = base64.b64encode(cv2.imencode('.jpg', out_image)[1])\n",
    "jpg_original = base64.b64decode(jpg_as_text)\n",
    "\n",
    "# Write to a file to show conversion worked\n",
    "with open('test.jpg', 'wb') as f_output:\n",
    "    f_output.write(jpg_original)"
   ]
  },
  {
   "cell_type": "code",
   "execution_count": 15,
   "metadata": {},
   "outputs": [
    {
     "name": "stdout",
     "output_type": "stream",
     "text": [
      "API call success\n"
     ]
    },
    {
     "data": {
      "text/plain": [
       "'score = 100 ==> nice squat! keep your core tighten'"
      ]
     },
     "execution_count": 15,
     "metadata": {},
     "output_type": "execute_result"
    }
   ],
   "source": [
    "data_sent = cv2.imencode('.png', image_read)[1].tobytes()\n",
    "files = {'img': data_sent}\n",
    "response = requests.post(api_url, files=files)\n",
    "\n",
    "if response.status_code == 200:\n",
    "    print(\"API call success\")\n",
    "else:\n",
    "    print(\"API call error\")\n",
    "\n",
    "response.json().get('angle')"
   ]
  },
  {
   "cell_type": "code",
   "execution_count": null,
   "metadata": {},
   "outputs": [],
   "source": []
  }
 ],
 "metadata": {
  "interpreter": {
   "hash": "b3f14d73607e2b47f457f5afe0cdd8b476917b31aba42e04af6dc4b7ddf7581c"
  },
  "kernelspec": {
   "display_name": "Python 3.8.12 64-bit ('lewagon')",
   "language": "python",
   "name": "python3"
  },
  "language_info": {
   "codemirror_mode": {
    "name": "ipython",
    "version": 3
   },
   "file_extension": ".py",
   "mimetype": "text/x-python",
   "name": "python",
   "nbconvert_exporter": "python",
   "pygments_lexer": "ipython3",
   "version": "3.8.12"
  },
  "orig_nbformat": 4
 },
 "nbformat": 4,
 "nbformat_minor": 2
}
